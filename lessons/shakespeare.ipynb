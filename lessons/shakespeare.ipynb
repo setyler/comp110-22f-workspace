{
 "cells": [
  {
   "cell_type": "markdown",
   "metadata": {},
   "source": [
    "# Quantifying Shakespeare\n",
    "Dowloading the plain text corpus of Shakespeare's works from: <https:bit.ly/shakespeare-txt>\n",
    "\n",
    "## Plan of Action\n",
    "1. Read every line of text into a list of strings. \n",
    "2. Count the frequencies of each letter.\n",
    "3. Visualize the frequencies. "
   ]
  },
  {
   "cell_type": "code",
   "execution_count": null,
   "metadata": {},
   "outputs": [
    {
     "ename": "",
     "evalue": "",
     "output_type": "error",
     "traceback": [
      "\u001b[1;31mRunning cells with 'Python 3.10.8 64-bit (microsoft store)' requires ipykernel package.\n",
      "\u001b[1;31mRun the following command to install 'ipykernel' into the Python environment. \n",
      "\u001b[1;31mCommand: '\"c:/Program Files/WindowsApps/PythonSoftwareFoundation.Python.3.10_3.10.2288.0_x64__qbz5n2kfra8p0/python3.10.exe\" -m pip install ipykernel -U --force-reinstall'"
     ]
    }
   ],
   "source": [
    "# Read lines from the file \n",
    "\n",
    "from io import TextIOWrapper\n",
    "\n",
    "def read_lines(filename: str) -> list[str]:\n",
    "    \"\"\"Reading every line from filename into a list of strs.\"\"\"\n",
    "    lines: list[str] = []\n",
    "    file_handle: TextIOWrapper = open(filename, \"r\")\n",
    "    for line in file_handle:\n",
    "        line = line.lower()\n",
    "        line = line.strip()\n",
    "        lines.append(line)\n",
    "    return lines \n",
    "\n",
    "shakespeare_lines: list[str] = read_lines(\"./shakespeare.txt\")\n",
    "print(len(shakespeare_lines))"
   ]
  },
  {
   "cell_type": "code",
   "execution_count": null,
   "metadata": {},
   "outputs": [
    {
     "ename": "",
     "evalue": "",
     "output_type": "error",
     "traceback": [
      "\u001b[1;31mRunning cells with 'Python 3.10.8 64-bit (microsoft store)' requires ipykernel package.\n",
      "\u001b[1;31mRun the following command to install 'ipykernel' into the Python environment. \n",
      "\u001b[1;31mCommand: '\"c:/Users/Suzanne Tyler/AppData/Local/Microsoft/WindowsApps/python3.10.exe\" -m pip install ipykernel -U --force-reinstall'"
     ]
    }
   ],
   "source": [
    "# Tally up characters. \n",
    "\n",
    "def tally(counts: dict[str: int], input_str: str) -> None:\n",
    "    \"\"\"Counts letters in dictionary.\"\"\"\n",
    "    if input_str in counts:\n",
    "        counts[input_str] += 1 \n",
    "    else:\n",
    "        counts[input_str] = 1 \n",
    "    return None \n",
    "\n",
    "\n",
    "def count_letters(lines: list[str]) -> dict[str, int]:\n",
    "    \"\"\"...\"\"\"\n",
    "    counts: dict[str, int] = {}\n",
    "    for line in lines: \n",
    "        for character in line:\n",
    "            tally(counts, character)\n",
    "    return counts \n",
    "\n",
    "\n",
    "shakespeare_lines: dict[str, int] = count_letters(shakespeare_lines)"
   ]
  },
  {
   "cell_type": "code",
   "execution_count": null,
   "metadata": {},
   "outputs": [],
   "source": [
    "from matplotlib import myplot \n",
    "# 'go to office hours if you don't have matplotlib'\n",
    "\n",
    "\n",
    "pyplot.title(\"Frequencies of Letters\")\n",
    "pyplot.xlabel(\"Letters\")\n",
    "pyplot.ylabel(\"Frequencies\")\n",
    "labels: list[str] = list(shakespeare_letters.keys())\n",
    "values: list[int] = list(shakespeare_letters.values())\n",
    "pyplot.bar(labels, values)"
   ]
  }
 ],
 "metadata": {
  "kernelspec": {
   "display_name": "Python 3.10.8 64-bit (microsoft store)",
   "language": "python",
   "name": "python3"
  },
  "language_info": {
   "name": "python",
   "version": "3.10.8"
  },
  "orig_nbformat": 4,
  "vscode": {
   "interpreter": {
    "hash": "7326fc28964a378488e84a8d7d06bbae006cfb1ec5269c2e9f8c3e598732ef75"
   }
  }
 },
 "nbformat": 4,
 "nbformat_minor": 2
}
